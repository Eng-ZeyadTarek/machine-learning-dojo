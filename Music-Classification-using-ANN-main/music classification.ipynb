{
  "cells": [
    {
      "cell_type": "markdown",
      "metadata": {},
      "source": [
        "# Lab 6:  Neural Networks for Music Classification\n",
        "\n",
        "In addition to the concepts in the [MNIST neural network demo](./mnist_neural.ipynb), in this lab, you will learn to:\n",
        "* Load a file from a URL\n",
        "* Extract simple features from audio samples for machine learning tasks such as speech recognition and classification\n",
        "* Build a simple neural network for music classification using these features\n",
        "* Use a callback to store the loss and accuracy history in the training process\n",
        "* Optimize the learning rate of the neural network\n",
        "\n",
        "To illustrate the basic concepts, we will look at a relatively simple music classification problem.  Given a sample of music, we want to determine which instrument (e.g. trumpet, violin, piano) is playing.  This dataset was generously supplied by [Prof. Juan Bello](http://steinhardt.nyu.edu/faculty/Juan_Pablo_Bello) at NYU Stenihardt  and his former PhD student Eric Humphrey (now at Spotify).  They have a complete website dedicated to deep learning methods in music informatics:\n",
        "\n",
        "http://marl.smusic.nyu.edu/wordpress/projects/feature-learning-deep-architectures/deep-learning-python-tutorial/\n",
        "\n",
        "You can also check out Juan's <a href=\"http://www.nyu.edu/classes/bello/ACA.html\">course</a>.\n",
        "\n"
      ]
    },
    {
      "cell_type": "markdown",
      "metadata": {},
      "source": [
        "## Loading the Keras package\n",
        "We begin by loading keras and the other packages"
      ]
    },
    {
      "cell_type": "code",
      "execution_count": 1,
      "metadata": {},
      "outputs": [],
      "source": [
        "import keras"
      ]
    },
    {
      "cell_type": "code",
      "execution_count": 2,
      "metadata": {
        "collapsed": true
      },
      "outputs": [],
      "source": [
        "import numpy as np\n",
        "import matplotlib\n",
        "import matplotlib.pyplot as plt\n",
        "%matplotlib inline"
      ]
    },
    {
      "cell_type": "markdown",
      "metadata": {},
      "source": [
        "## Audio Feature Extraction with Librosa\n",
        "\n",
        "The key to audio classification is to extract the correct features. In addition to `keras`, we will need the `librosa` package.  The `librosa` package in python has a rich set of methods extracting the features of audio samples commonly used in machine learning tasks such as speech recognition and sound classification. \n",
        "\n",
        "Installation instructions and complete documentation for the package are given on the [librosa main page](https://librosa.github.io/librosa/).  On most systems, you should be able to simply use:\n",
        "\n",
        "    pip install -u librosa\n",
        "    \n",
        "For Unix, you may need to load some additional packages:\n",
        "\n",
        "    sudo apt-get install build-essential\n",
        "    sudo apt-get install libxext-dev python-qt4 qt4-dev-tools\n",
        "    pip install librosa\n",
        "    \n",
        "After you have installed the package, try to import it."
      ]
    },
    {
      "cell_type": "code",
      "execution_count": 3,
      "metadata": {
        "collapsed": true
      },
      "outputs": [],
      "source": [
        "import librosa\n",
        "import librosa.display\n",
        "import librosa.feature"
      ]
    },
    {
      "cell_type": "markdown",
      "metadata": {},
      "source": [
        "In this lab, we will use a set of music samples from the website:\n",
        "\n",
        "http://theremin.music.uiowa.edu\n",
        "\n",
        "This website has a great set of samples for audio processing.  Look on the web for how to use the `requests.get` and `file.write` commands to load the file at the URL provided into your working directory.\n",
        "\n",
        "You can play the audio sample by copying the file to your local machine and playing it on any media player.  If you listen to it you will hear a soprano saxaphone (with vibrato) playing four notes (C, C#, D, Eb)."
      ]
    },
    {
      "cell_type": "code",
      "execution_count": 4,
      "metadata": {
        "collapsed": true
      },
      "outputs": [
        {
          "data": {
            "text/plain": [
              "1418242"
            ]
          },
          "execution_count": 4,
          "metadata": {},
          "output_type": "execute_result"
        }
      ],
      "source": [
        "import requests\n",
        "fn = \"SopSax.Vib.pp.C6Eb6.aiff\"\n",
        "url = \"http://theremin.music.uiowa.edu/sound files/MIS/Woodwinds/sopranosaxophone/\"+fn\n",
        "\n",
        "# TODO:  Load the file from url and save it in a file under the name fn\n",
        "r = requests.get(url, allow_redirects=True)\n",
        "open(fn, 'wb').write(r.content)"
      ]
    },
    {
      "cell_type": "markdown",
      "metadata": {},
      "source": [
        "Next, use `librosa` command `librosa.load` to read the audio file with filename `fn` and get the samples `y` and sample rate `sr`."
      ]
    },
    {
      "cell_type": "code",
      "execution_count": 5,
      "metadata": {
        "collapsed": true
      },
      "outputs": [],
      "source": [
        "# TODO\n",
        "y, sr = librosa.load(fn) "
      ]
    },
    {
      "cell_type": "markdown",
      "metadata": {},
      "source": [
        "Extracting features from audio files is an entire subject on its own right.  A commonly used set of features are called the Mel Frequency Cepstral Coefficients (MFCCs).  These are derived from the so-called mel spectrogram which is something like a regular spectrogram, but the power and frequency are represented in log scale, which more naturally aligns with human perceptual processing.  You can run the code below to display the mel spectrogram from the audio sample.\n",
        "\n",
        "You can easily see the four notes played in the audio track.  You also see the 'harmonics' of each notes, which are other tones at integer multiples of the fundamental frequency of each note."
      ]
    },
    {
      "cell_type": "code",
      "execution_count": 6,
      "metadata": {
        "collapsed": true
      },
      "outputs": [
        {
          "data": {
            "image/png": "[encoded data removed]",
            "text/plain": [
              "<Figure size 432x288 with 2 Axes>"
            ]
          },
          "metadata": {
            "needs_background": "light"
          },
          "output_type": "display_data"
        }
      ],
      "source": [
        "S = librosa.feature.melspectrogram(y=y, sr=sr, n_mels=128, fmax=8000)\n",
        "librosa.display.specshow(librosa.amplitude_to_db(S,ref = np.max),\n",
        "                         y_axis='mel', fmax=8000, x_axis='time')\n",
        "plt.colorbar(format='%+2.0f dB')\n",
        "plt.title('Mel spectrogram')\n",
        "plt.tight_layout()"
      ]
    },
    {
      "cell_type": "markdown",
      "metadata": {},
      "source": [
        "## Downloading the Data\n",
        "\n",
        "Using the MFCC features described above, Eric Humphrey and Juan Bellow have created a complete data set that can used for instrument classification.  Essentially, they collected a number of data files from the website above.  For each audio file, the segmented the track into notes and then extracted 120 MFCCs for each note.  The goal is to recognize the instrument from the 120 MFCCs.  The process of feature extraction is quite involved.  So, we will just use their processed data provided at:\n",
        "\n",
        "https://github.com/marl/dl4mir-tutorial/blob/master/README.md\n",
        "\n",
        "Note the password.  Load the four files into some directory, say  `instrument_dataset`.  Then, load them with the commands."
      ]
    },
    {
      "cell_type": "code",
      "execution_count": 7,
      "metadata": {
        "collapsed": true
      },
      "outputs": [],
      "source": [
        "data_dir = 'instrument_dataset/'\n",
        "Xtr = np.load(data_dir+'uiowa_train_data.npy')\n",
        "ytr = np.load(data_dir+'uiowa_train_labels.npy')\n",
        "Xts = np.load(data_dir+'uiowa_test_data.npy')\n",
        "yts = np.load(data_dir+'uiowa_test_labels.npy')"
      ]
    },
    {
      "cell_type": "markdown",
      "metadata": {},
      "source": [
        "Looking at the data files:\n",
        "* What are the number of training and test samples?\n",
        "* What is the number of features for each sample?\n",
        "* How many classes (i.e. instruments) are there per class.\n"
      ]
    },
    {
      "cell_type": "code",
      "execution_count": 8,
      "metadata": {
        "collapsed": true
      },
      "outputs": [
        {
          "name": "stdout",
          "output_type": "stream",
          "text": [
            "number of smaples in training set 66247\n",
            "number of smaples in test set 14904\n",
            "number of smaples 10 each [0 1 2 3 4 5 6 7 8 9] in [ 6737  2189  4167  8930  4185  8885 12250  2505  2056 14343]\n"
          ]
        }
      ],
      "source": [
        "print(f\"number of smaples in training set {Xtr.shape[0]}\")\n",
        "print(f\"number of smaples in test set {Xts.shape[0]}\")\n",
        "classes, count = np.unique(ytr,return_counts=True)\n",
        "print(f\"number of smaples {len(classes)} each {classes} in {count}\")"
      ]
    },
    {
      "cell_type": "markdown",
      "metadata": {},
      "source": [
        "Before continuing, you must scale the training and test data, `Xtr` and `Xts`.  Compute the mean and std deviation of each feature in `Xtr` and create a new training data set, `Xtr_scale`, by subtracting the mean and dividing by the std deviation.  Also compute a scaled test data set, `Xts_scale` using the mean and std deviation learned from the training data set."
      ]
    },
    {
      "cell_type": "code",
      "execution_count": 9,
      "metadata": {
        "collapsed": true
      },
      "outputs": [],
      "source": [
        "# TODO Scale the training and test matrices\n",
        "Xtr_scale = (Xtr - np.mean(Xtr,axis=0)) / np.std(Xtr,axis=0)\n",
        "Xts_scale = (Xts - np.mean(Xtr,axis=0)) / np.std(Xtr,axis=0)"
      ]
    },
    {
      "cell_type": "markdown",
      "metadata": {
        "collapsed": true
      },
      "source": [
        "## Building a Neural Network Classifier\n",
        "\n",
        "Following the example in [MNIST neural network demo](./mnist_neural.ipynb), clear the keras session.  Then, create a neural network `model` with:\n",
        "* `nh=256` hidden units\n",
        "* `sigmoid` activation\n",
        "* select the input and output shapes correctly\n",
        "* print the model summary"
      ]
    },
    {
      "cell_type": "code",
      "execution_count": 10,
      "metadata": {
        "collapsed": true
      },
      "outputs": [],
      "source": [
        "from keras.models import Model, Sequential\n",
        "from keras.layers import Dense, Activation"
      ]
    },
    {
      "cell_type": "code",
      "execution_count": 11,
      "metadata": {
        "collapsed": true
      },
      "outputs": [
        {
          "data": {
            "text/plain": [
              "<function keras.backend.clear_session()>"
            ]
          },
          "execution_count": 11,
          "metadata": {},
          "output_type": "execute_result"
        }
      ],
      "source": [
        "keras.backend.clear_session"
      ]
    },
    {
      "cell_type": "code",
      "execution_count": 12,
      "metadata": {
        "collapsed": true
      },
      "outputs": [],
      "source": [
        "ann = keras.models.Sequential()\n",
        "ann.add(keras.layers.Dense(units=120, activation='sigmoid'))\n",
        "ann.add(keras.layers.Dense(units=256, activation='sigmoid'))\n",
        "ann.add(keras.layers.Dense(units=10, activation='sigmoid'))\n",
        "ann.build(Xtr_scale.shape)"
      ]
    },
    {
      "cell_type": "code",
      "execution_count": 13,
      "metadata": {
        "collapsed": true
      },
      "outputs": [
        {
          "name": "stdout",
          "output_type": "stream",
          "text": [
            "Model: \"sequential\"\n",
            "_________________________________________________________________\n",
            " Layer (type)                Output Shape              Param #   \n",
            "=================================================================\n",
            " dense (Dense)               (66247, 120)              14520     \n",
            "                                                                 \n",
            " dense_1 (Dense)             (66247, 256)              30976     \n",
            "                                                                 \n",
            " dense_2 (Dense)             (66247, 10)               2570      \n",
            "                                                                 \n",
            "=================================================================\n",
            "Total params: 48,066\n",
            "Trainable params: 48,066\n",
            "Non-trainable params: 0\n",
            "_________________________________________________________________\n"
          ]
        }
      ],
      "source": [
        "ann.summary()"
      ]
    },
    {
      "cell_type": "markdown",
      "metadata": {},
      "source": [
        "To keep track of the loss history and validation accuracy, we will use a *callback* function as described in [Keras callback documentation](https://keras.io/callbacks/).  A callback is a class that is passed to the `fit` method.  Complete the `LoadHistory` callback class below to save the loss and validation accuracy."
      ]
    },
    {
      "cell_type": "code",
      "execution_count": 14,
      "metadata": {
        "collapsed": true
      },
      "outputs": [],
      "source": [
        "class LossHistory(keras.callbacks.Callback):\n",
        "    def on_train_begin(self, logs={}):\n",
        "        # TODO:  Create two empty lists, self.loss and self.val_acc\n",
        "        self.loss = list()\n",
        "        self.val_acc = list()\n",
        "    def on_batch_end(self, batch, logs={}):\n",
        "        # TODO:  This is called at the end of each batch.  \n",
        "        # Add the loss in logs.get('loss') to the loss list\n",
        "        self.loss.append(logs.get('loss'))\n",
        "    def on_epoch_end(self, epoch, logs):\n",
        "        # TODO:  This is called at the end of each epoch.  \n",
        "        # Add the test accuracy in logs.get('val_acc') to the val_acc list\n",
        "        self.val_acc.append(logs.get('val_accuracy'))\n",
        "# Create an instance of the history callback\n",
        "history_cb = LossHistory()\n"
      ]
    },
    {
      "cell_type": "markdown",
      "metadata": {},
      "source": [
        "Create an optimizer and compile the model.  Select the appropriate loss function and metrics.  For the optimizer, use the Adam optimizer with a learning rate of 0.001"
      ]
    },
    {
      "cell_type": "code",
      "execution_count": 15,
      "metadata": {
        "collapsed": true,
        "scrolled": true
      },
      "outputs": [],
      "source": [
        "import tensorflow as tf\n",
        "opt = tf.keras.optimizers.Adam(learning_rate=0.001)\n",
        "\n",
        "ann.compile(optimizer=opt, loss='sparse_categorical_crossentropy', metrics=['accuracy'])"
      ]
    },
    {
      "cell_type": "markdown",
      "metadata": {},
      "source": [
        "Fit the model for 10 epochs using the scaled data for both the training and validation.  Use the `validation_data` option to pass the test data.  Also, pass the callback class create above.  Use a batch size of 100.  Your final accuracy should be >99%."
      ]
    },
    {
      "cell_type": "code",
      "execution_count": 16,
      "metadata": {
        "collapsed": true,
        "scrolled": true
      },
      "outputs": [
        {
          "name": "stdout",
          "output_type": "stream",
          "text": [
            "Epoch 1/10\n",
            "663/663 [==============================] - 3s 4ms/step - loss: 0.4240 - accuracy: 0.8747 - val_loss: 0.1419 - val_accuracy: 0.9654\n",
            "Epoch 2/10\n",
            "663/663 [==============================] - 2s 3ms/step - loss: 0.0789 - accuracy: 0.9795 - val_loss: 0.0659 - val_accuracy: 0.9820\n",
            "Epoch 3/10\n",
            "663/663 [==============================] - 2s 3ms/step - loss: 0.0451 - accuracy: 0.9882 - val_loss: 0.0563 - val_accuracy: 0.9834\n",
            "Epoch 4/10\n",
            "663/663 [==============================] - 2s 3ms/step - loss: 0.0320 - accuracy: 0.9913 - val_loss: 0.0444 - val_accuracy: 0.9868\n",
            "Epoch 5/10\n",
            "663/663 [==============================] - 2s 4ms/step - loss: 0.0244 - accuracy: 0.9931 - val_loss: 0.0390 - val_accuracy: 0.9876\n",
            "Epoch 6/10\n",
            "663/663 [==============================] - 2s 3ms/step - loss: 0.0191 - accuracy: 0.9945 - val_loss: 0.0317 - val_accuracy: 0.9897\n",
            "Epoch 7/10\n",
            "663/663 [==============================] - 2s 4ms/step - loss: 0.0159 - accuracy: 0.9950 - val_loss: 0.0334 - val_accuracy: 0.9887\n",
            "Epoch 8/10\n",
            "663/663 [==============================] - 3s 4ms/step - loss: 0.0131 - accuracy: 0.9960 - val_loss: 0.0255 - val_accuracy: 0.9915\n",
            "Epoch 9/10\n",
            "663/663 [==============================] - 2s 4ms/step - loss: 0.0114 - accuracy: 0.9964 - val_loss: 0.0279 - val_accuracy: 0.9889\n",
            "Epoch 10/10\n",
            "663/663 [==============================] - 2s 4ms/step - loss: 0.0103 - accuracy: 0.9967 - val_loss: 0.0227 - val_accuracy: 0.9923\n"
          ]
        },
        {
          "data": {
            "text/plain": [
              "<keras.callbacks.History at 0x19dc0bcb0a0>"
            ]
          },
          "execution_count": 16,
          "metadata": {},
          "output_type": "execute_result"
        }
      ],
      "source": [
        "# TODO\n",
        "batch_size = 100\n",
        "ann.fit(Xtr_scale,ytr,batch_size=100,epochs=10,validation_data=(Xts_scale, yts),callbacks=[history_cb])"
      ]
    },
    {
      "cell_type": "markdown",
      "metadata": {},
      "source": [
        "Plot the validation accuracy saved in the `history_cb`. This gives one accuracy value per epoch.  You should see that the validation accuracy saturates at a little higher than 99%.  After that it \"bounces around\" due to the noise in the stochastic gradient descent."
      ]
    },
    {
      "cell_type": "code",
      "execution_count": 17,
      "metadata": {
        "collapsed": true
      },
      "outputs": [
        {
          "data": {
            "text/plain": [
              "[0.9653784036636353,\n",
              " 0.982018232345581,\n",
              " 0.9834272861480713,\n",
              " 0.9867820739746094,\n",
              " 0.9875872135162354,\n",
              " 0.9896671772003174,\n",
              " 0.9886607527732849,\n",
              " 0.9914788007736206,\n",
              " 0.9888620376586914,\n",
              " 0.9922839403152466]"
            ]
          },
          "execution_count": 17,
          "metadata": {},
          "output_type": "execute_result"
        },
        {
          "data": {
            "image/png": "[encoded data removed]",
            "text/plain": [
              "<Figure size 432x288 with 1 Axes>"
            ]
          },
          "metadata": {
            "needs_background": "light"
          },
          "output_type": "display_data"
        }
      ],
      "source": [
        "\n",
        "plt.plot(np.arange(1,11),history_cb.val_acc)\n",
        "plt.xlabel('epochs')\n",
        "plt.ylabel('accuracy')\n",
        "history_cb.val_acc"
      ]
    },
    {
      "cell_type": "markdown",
      "metadata": {},
      "source": [
        "Plot the loss values saved in the `history_cb` class.  Use the `semilogy` plot.  There is one loss value per step.  But, plot the x-axis in epochs.  Note that the epoch in step `i` is `epoch = i*batch_size/ntr` where `batch_size` is the batch_size and `ntr` is the total number of training samples."
      ]
    },
    {
      "cell_type": "code",
      "execution_count": 18,
      "metadata": {
        "collapsed": true
      },
      "outputs": [
        {
          "data": {
            "text/plain": [
              "[<matplotlib.lines.Line2D at 0x19dc10255b0>]"
            ]
          },
          "execution_count": 18,
          "metadata": {},
          "output_type": "execute_result"
        },
        {
          "data": {
            "image/png": "[encoded data removed]",
            "text/plain": [
              "<Figure size 432x288 with 1 Axes>"
            ]
          },
          "metadata": {
            "needs_background": "light"
          },
          "output_type": "display_data"
        }
      ],
      "source": [
        "epochs_lst = []\n",
        "for i in range(len(history_cb.loss)):\n",
        "    epochs = i*batch_size/Xtr_scale.shape[0]\n",
        "    epochs_lst.append(epochs) \n",
        "\n",
        "plt.semilogy(epochs_lst,history_cb.loss)"
      ]
    },
    {
      "cell_type": "markdown",
      "metadata": {},
      "source": [
        "## Optimizing the Learning Rate\n",
        "\n",
        "One challenge in training neural networks is the selection of the learning rate.  Rerun the above code, trying three learning rates as shown in the vector `rates`.  For each learning rate:\n",
        "* clear the session\n",
        "* construct the network\n",
        "* select the optimizer.  Use the Adam optimizer with the appropriate learrning rate.\n",
        "* train the model\n",
        "* save the accuracy and losses"
      ]
    },
    {
      "cell_type": "code",
      "execution_count": 19,
      "metadata": {
        "collapsed": true
      },
      "outputs": [
        {
          "name": "stdout",
          "output_type": "stream",
          "text": [
            "\t\t\t\t\t\t\t\t learning rate 0.01\n",
            "\n",
            "\n",
            "Epoch 1/10\n",
            "663/663 [==============================] - 3s 4ms/step - loss: 0.0425 - accuracy: 0.9869 - val_loss: 0.0455 - val_accuracy: 0.9861\n",
            "Epoch 2/10\n",
            "663/663 [==============================] - 2s 3ms/step - loss: 0.0292 - accuracy: 0.9903 - val_loss: 0.0442 - val_accuracy: 0.9839\n",
            "Epoch 3/10\n",
            "663/663 [==============================] - 2s 3ms/step - loss: 0.0212 - accuracy: 0.9932 - val_loss: 0.1262 - val_accuracy: 0.9682\n",
            "Epoch 4/10\n",
            "663/663 [==============================] - 2s 4ms/step - loss: 0.0210 - accuracy: 0.9933 - val_loss: 0.0435 - val_accuracy: 0.9866\n",
            "Epoch 5/10\n",
            "663/663 [==============================] - 2s 4ms/step - loss: 0.0176 - accuracy: 0.9945 - val_loss: 0.0370 - val_accuracy: 0.9883\n",
            "Epoch 6/10\n",
            "663/663 [==============================] - 2s 4ms/step - loss: 0.0185 - accuracy: 0.9945 - val_loss: 0.0728 - val_accuracy: 0.9805\n",
            "Epoch 7/10\n",
            "663/663 [==============================] - 2s 4ms/step - loss: 0.0184 - accuracy: 0.9944 - val_loss: 0.0246 - val_accuracy: 0.9938\n",
            "Epoch 8/10\n",
            "663/663 [==============================] - 2s 4ms/step - loss: 0.0147 - accuracy: 0.9953 - val_loss: 0.0680 - val_accuracy: 0.9815\n",
            "Epoch 9/10\n",
            "663/663 [==============================] - 2s 4ms/step - loss: 0.0145 - accuracy: 0.9955 - val_loss: 0.2055 - val_accuracy: 0.9626\n",
            "Epoch 10/10\n",
            "663/663 [==============================] - 2s 4ms/step - loss: 0.0136 - accuracy: 0.9960 - val_loss: 0.0517 - val_accuracy: 0.9871\n",
            "\t\t\t\t\t\t\t\t learning rate 0.001\n",
            "\n",
            "\n",
            "Epoch 1/10\n",
            "663/663 [==============================] - 3s 4ms/step - loss: 0.0028 - accuracy: 0.9992 - val_loss: 0.0250 - val_accuracy: 0.9936\n",
            "Epoch 2/10\n",
            "663/663 [==============================] - 2s 4ms/step - loss: 0.0019 - accuracy: 0.9994 - val_loss: 0.0317 - val_accuracy: 0.9918\n",
            "Epoch 3/10\n",
            "663/663 [==============================] - 3s 4ms/step - loss: 0.0015 - accuracy: 0.9995 - val_loss: 0.0289 - val_accuracy: 0.9926\n",
            "Epoch 4/10\n",
            "663/663 [==============================] - 2s 4ms/step - loss: 0.0014 - accuracy: 0.9996 - val_loss: 0.0256 - val_accuracy: 0.9936\n",
            "Epoch 5/10\n",
            "663/663 [==============================] - 2s 4ms/step - loss: 9.8994e-04 - accuracy: 0.9996 - val_loss: 0.0335 - val_accuracy: 0.9914\n",
            "Epoch 6/10\n",
            "663/663 [==============================] - 3s 4ms/step - loss: 9.9150e-04 - accuracy: 0.9997 - val_loss: 0.0255 - val_accuracy: 0.9938\n",
            "Epoch 7/10\n",
            "663/663 [==============================] - 2s 4ms/step - loss: 0.0011 - accuracy: 0.9997 - val_loss: 0.0256 - val_accuracy: 0.9944\n",
            "Epoch 8/10\n",
            "663/663 [==============================] - 2s 4ms/step - loss: 9.7363e-04 - accuracy: 0.9997 - val_loss: 0.0274 - val_accuracy: 0.9940\n",
            "Epoch 9/10\n",
            "663/663 [==============================] - 2s 4ms/step - loss: 8.4628e-04 - accuracy: 0.9997 - val_loss: 0.0276 - val_accuracy: 0.9938\n",
            "Epoch 10/10\n",
            "663/663 [==============================] - 2s 4ms/step - loss: 9.0509e-04 - accuracy: 0.9997 - val_loss: 0.0274 - val_accuracy: 0.9938\n",
            "\t\t\t\t\t\t\t\t learning rate 0.0001\n",
            "\n",
            "\n",
            "Epoch 1/10\n",
            "663/663 [==============================] - 3s 4ms/step - loss: 3.2653e-04 - accuracy: 0.9999 - val_loss: 0.0269 - val_accuracy: 0.9943\n",
            "Epoch 2/10\n",
            "663/663 [==============================] - 2s 4ms/step - loss: 3.0475e-04 - accuracy: 0.9999 - val_loss: 0.0273 - val_accuracy: 0.9942\n",
            "Epoch 3/10\n",
            "663/663 [==============================] - 2s 4ms/step - loss: 2.8856e-04 - accuracy: 0.9999 - val_loss: 0.0279 - val_accuracy: 0.9940\n",
            "Epoch 4/10\n",
            "663/663 [==============================] - 2s 4ms/step - loss: 2.7635e-04 - accuracy: 0.9999 - val_loss: 0.0276 - val_accuracy: 0.9938\n",
            "Epoch 5/10\n",
            "663/663 [==============================] - 2s 3ms/step - loss: 2.6091e-04 - accuracy: 0.9999 - val_loss: 0.0289 - val_accuracy: 0.9936\n",
            "Epoch 6/10\n",
            "663/663 [==============================] - 2s 4ms/step - loss: 2.3501e-04 - accuracy: 0.9999 - val_loss: 0.0294 - val_accuracy: 0.9936\n",
            "Epoch 7/10\n",
            "663/663 [==============================] - 2s 3ms/step - loss: 2.3227e-04 - accuracy: 0.9999 - val_loss: 0.0298 - val_accuracy: 0.9934\n",
            "Epoch 8/10\n",
            "663/663 [==============================] - 2s 4ms/step - loss: 2.2447e-04 - accuracy: 0.9999 - val_loss: 0.0303 - val_accuracy: 0.9934\n",
            "Epoch 9/10\n",
            "663/663 [==============================] - 2s 4ms/step - loss: 2.5247e-04 - accuracy: 0.9999 - val_loss: 0.0301 - val_accuracy: 0.9936\n",
            "Epoch 10/10\n",
            "663/663 [==============================] - 2s 3ms/step - loss: 2.1152e-04 - accuracy: 0.9999 - val_loss: 0.0315 - val_accuracy: 0.9935\n"
          ]
        }
      ],
      "source": [
        "keras.backend.clear_session\n",
        "\n",
        "rates = [0.01,0.001,0.0001]\n",
        "batch_size = 100\n",
        "loss_hist = []\n",
        "val_acc_hist = []\n",
        "\n",
        "history_cb.val_acc = []\n",
        "history_cb.loss = []\n",
        "for i in range(len(rates)):\n",
        "    opt = tf.keras.optimizers.Adam(learning_rate=rates[i])\n",
        "    ann.compile(optimizer=opt, loss='sparse_categorical_crossentropy', metrics=['accuracy'])\n",
        "    print(\"\\n\")\n",
        "    print(f\"\\t\\t\\t\\t\\t\\t\\t\\t learning rate {rates[i]}\")\n",
        "    print(\"\\n\")\n",
        "    hist = ann.fit(Xtr_scale,ytr,batch_size=100,epochs=10,validation_data=(Xts_scale, yts),callbacks=[history_cb])\n",
        "\n",
        "    loss_hist.append(hist.history['loss'])\n",
        "    val_acc_hist.append(hist.history['accuracy'])\n",
        "\n",
        "loss_hist = np.array(loss_hist)"
      ]
    },
    {
      "cell_type": "markdown",
      "metadata": {},
      "source": [
        "Plot the loss funciton vs. the epoch number for all three learning rates on one graph.  You should see that the lower learning rates are more stable, but converge slower."
      ]
    },
    {
      "cell_type": "code",
      "execution_count": 20,
      "metadata": {
        "collapsed": true
      },
      "outputs": [
        {
          "data": {
            "text/plain": [
              "Text(0.5, 1.0, 'Loss Function for each Epoch')"
            ]
          },
          "execution_count": 20,
          "metadata": {},
          "output_type": "execute_result"
        },
        {
          "data": {
            "image/png": "[encoded data removed]",
            "text/plain": [
              "<Figure size 432x288 with 1 Axes>"
            ]
          },
          "metadata": {
            "needs_background": "light"
          },
          "output_type": "display_data"
        }
      ],
      "source": [
        "epochs=np.arange(1,11)\n",
        "plt.plot(epochs,loss_hist[0, :],label='rate=0.01')\n",
        "plt.plot(epochs,loss_hist[1, :],label='rate=0.001')\n",
        "plt.plot(epochs,loss_hist[2, :],label='rate=0.0001')\n",
        "plt.legend() \n",
        "plt.xlim(0,10)\n",
        "plt.xlabel('epochs')\n",
        "plt.ylabel('loss function')\n",
        "plt.title('Loss Function for each Epoch')"
      ]
    }
  ],
  "metadata": {
    "anaconda-cloud": {},
    "interpreter": {
      "hash": "b3ba2566441a7c06988d0923437866b63cedc61552a5af99d1f4fb67d367b25f"
    },
    "kernelspec": {
      "display_name": "Python [conda root]",
      "language": "python",
      "name": "python3"
    },
    "language_info": {
      "codemirror_mode": {
        "name": "ipython",
        "version": 3
      },
      "file_extension": ".py",
      "mimetype": "text/x-python",
      "name": "python",
      "nbconvert_exporter": "python",
      "pygments_lexer": "ipython3",
      "version": "3.9.7"
    },
    "nteract": {
      "version": "0.28.0"
    }
  },
  "nbformat": 4,
  "nbformat_minor": 1
}
