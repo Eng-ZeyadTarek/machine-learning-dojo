{
  "cells": [
    {
      "cell_type": "markdown",
      "metadata": {
        "id": "SA8KXVAXm89L"
      },
      "source": [
        "**Logistic regression in Keras for classification**\n",
        "\n",
        "https://aigeekprogrammer.com/binary-classification-using-logistic-regression-and-keras/"
      ]
    },
    {
      "cell_type": "markdown",
      "metadata": {},
      "source": [
        "Here we will build logistic regression as neural network model and we will use it to classify 2 different type of images.\n",
        "\n",
        "**The first class is 0 and the input is the images of handwritten data of the 0 digit.**</br>\n",
        "\n",
        "**The second class is 1 and the input is the images of handwritten data of the 1 digit.**"
      ]
    },
    {
      "cell_type": "code",
      "execution_count": 15,
      "metadata": {
        "colab": {
          "base_uri": "https://localhost:8080/"
        },
        "id": "5NDNcqKFm8QT",
        "outputId": "d02a6872-a983-4a7d-da96-69626b07d6b9"
      },
      "outputs": [
        {
          "name": "stdout",
          "output_type": "stream",
          "text": [
            "2.10.0\n"
          ]
        }
      ],
      "source": [
        "import numpy as np\n",
        "from tensorflow import keras\n",
        "print (keras.__version__)"
      ]
    },
    {
      "cell_type": "code",
      "execution_count": 16,
      "metadata": {
        "colab": {
          "base_uri": "https://localhost:8080/"
        },
        "id": "XKv6pUV1m9sg",
        "outputId": "27728d38-f221-43c5-9e1a-a68ce916bfe8"
      },
      "outputs": [
        {
          "data": {
            "text/plain": [
              "(60000, 28, 28)"
            ]
          },
          "execution_count": 16,
          "metadata": {},
          "output_type": "execute_result"
        }
      ],
      "source": [
        "from keras.datasets import mnist\n",
        "\n",
        "#We import data into variables and check their shape.\n",
        "\n",
        "(x_train, y_train), (x_test, y_test) = mnist.load_data()\n",
        "x_train.shape"
      ]
    },
    {
      "cell_type": "code",
      "execution_count": 17,
      "metadata": {
        "colab": {
          "base_uri": "https://localhost:8080/"
        },
        "id": "G8JKbHbboBxK",
        "outputId": "b909ef31-c8e5-4631-8d2d-7f0dc1d65f21"
      },
      "outputs": [
        {
          "data": {
            "text/plain": [
              "(60000,)"
            ]
          },
          "execution_count": 17,
          "metadata": {},
          "output_type": "execute_result"
        }
      ],
      "source": [
        "y_train.shape"
      ]
    },
    {
      "cell_type": "code",
      "execution_count": 18,
      "metadata": {
        "colab": {
          "base_uri": "https://localhost:8080/"
        },
        "id": "kbLwTYk5oB0H",
        "outputId": "5395c5cb-6df1-4eee-9987-6d6ae79ab483"
      },
      "outputs": [
        {
          "data": {
            "text/plain": [
              "array([5, 0, 4, 1, 9, 2, 1, 3, 1, 4], dtype=uint8)"
            ]
          },
          "execution_count": 18,
          "metadata": {},
          "output_type": "execute_result"
        }
      ],
      "source": [
        "y_train[0:10]"
      ]
    },
    {
      "cell_type": "code",
      "execution_count": 19,
      "metadata": {
        "colab": {
          "base_uri": "https://localhost:8080/"
        },
        "id": "jwB2nS2QoB3Z",
        "outputId": "80ac745b-6de6-4e17-fdec-e9bad8e2c46b"
      },
      "outputs": [
        {
          "data": {
            "text/plain": [
              "(12665, 28, 28)"
            ]
          },
          "execution_count": 19,
          "metadata": {},
          "output_type": "execute_result"
        }
      ],
      "source": [
        "#we create new variables that contain only zeros and ones.\n",
        "\n",
        "x_train_new, y_train_new = x_train[(y_train==0) | (y_train==1)], y_train[(y_train==0) | (y_train==1)]\n",
        "\n",
        "#Let’s check the shape of the new variables.\n",
        "\n",
        "x_train_new.shape"
      ]
    },
    {
      "cell_type": "code",
      "execution_count": 21,
      "metadata": {
        "colab": {
          "base_uri": "https://localhost:8080/"
        },
        "id": "RJNswhHkoB89",
        "outputId": "f432bc19-fb18-4771-da18-5160e6c37fed"
      },
      "outputs": [
        {
          "data": {
            "text/plain": [
              "(12665, 784)"
            ]
          },
          "execution_count": 21,
          "metadata": {},
          "output_type": "execute_result"
        }
      ],
      "source": [
        "#we need to flatten data into two dimensions only: index and flattened image data (28 * 28 = 784).\n",
        "\n",
        "x_train_final = x_train_new.reshape((-1, 784))\n",
        "x_train_final.shape"
      ]
    },
    {
      "cell_type": "code",
      "execution_count": 22,
      "metadata": {
        "colab": {
          "base_uri": "https://localhost:8080/"
        },
        "id": "ajqJCSIPovFf",
        "outputId": "15d941e2-ade7-4b10-d69b-6b5e2bdb6dc5"
      },
      "outputs": [
        {
          "data": {
            "text/plain": [
              "(2115, 28, 28)"
            ]
          },
          "execution_count": 22,
          "metadata": {},
          "output_type": "execute_result"
        }
      ],
      "source": [
        "#A similar sequence of operations we perform for the test set.\n",
        "\n",
        "x_test_new, y_test_new = x_test[(y_test==0) | (y_test==1)], y_test[(y_test==0) | (y_test==1)]\n",
        "x_test_new.shape"
      ]
    },
    {
      "cell_type": "code",
      "execution_count": 23,
      "metadata": {
        "id": "kqk5lrgkovJI"
      },
      "outputs": [],
      "source": [
        "x_test_final = x_test_new.reshape((-1, 784))\n"
      ]
    },
    {
      "cell_type": "code",
      "execution_count": 24,
      "metadata": {
        "id": "VqgGpBjAovL3"
      },
      "outputs": [],
      "source": [
        "#The last element of data preprocessing is their normalization.\n",
        "\n",
        "x_train_final = x_train_final / 255\n",
        "x_test_final = x_test_final / 255"
      ]
    },
    {
      "cell_type": "markdown",
      "metadata": {
        "id": "xgiNYlFqpeR0"
      },
      "source": [
        "Model:   polynomial value: x1 * w1 + x2 * w2 + … + x784 * w784"
      ]
    },
    {
      "cell_type": "code",
      "execution_count": 25,
      "metadata": {
        "colab": {
          "base_uri": "https://localhost:8080/"
        },
        "id": "-_lIWZaeovOR",
        "outputId": "cd9bf717-b34e-438b-8414-945907b7833a"
      },
      "outputs": [
        {
          "data": {
            "text/plain": [
              "<keras.layers.core.dense.Dense at 0x23f4974feb0>"
            ]
          },
          "execution_count": 25,
          "metadata": {},
          "output_type": "execute_result"
        }
      ],
      "source": [
        "model = keras.Sequential()\n",
        "keras.layers.Dense(1, input_shape=(784,), activation='sigmoid')"
      ]
    },
    {
      "cell_type": "code",
      "execution_count": 26,
      "metadata": {
        "id": "_oPxy8UBpmJ2"
      },
      "outputs": [],
      "source": [
        "model.compile(optimizer='adam', loss='binary_crossentropy', metrics=['binary_accuracy'])"
      ]
    },
    {
      "cell_type": "code",
      "execution_count": 27,
      "metadata": {
        "colab": {
          "base_uri": "https://localhost:8080/"
        },
        "id": "sTTGaqADpmMt",
        "outputId": "371032c2-c25c-4d5d-e170-4d8f38b5a70b"
      },
      "outputs": [
        {
          "name": "stdout",
          "output_type": "stream",
          "text": [
            "Epoch 1/10\n",
            "198/198 [==============================] - 0s 828us/step - loss: 7.6951 - binary_accuracy: 0.4265\n",
            "Epoch 2/10\n",
            "198/198 [==============================] - 0s 804us/step - loss: 7.6951 - binary_accuracy: 0.4265\n",
            "Epoch 3/10\n",
            "198/198 [==============================] - 0s 779us/step - loss: 7.6952 - binary_accuracy: 0.4265\n",
            "Epoch 4/10\n",
            "198/198 [==============================] - 0s 789us/step - loss: 7.6952 - binary_accuracy: 0.4265\n",
            "Epoch 5/10\n",
            "198/198 [==============================] - 0s 769us/step - loss: 7.6951 - binary_accuracy: 0.4265\n",
            "Epoch 6/10\n",
            "198/198 [==============================] - 0s 754us/step - loss: 7.6952 - binary_accuracy: 0.4265\n",
            "Epoch 7/10\n",
            "198/198 [==============================] - 0s 759us/step - loss: 7.6951 - binary_accuracy: 0.4265\n",
            "Epoch 8/10\n",
            "198/198 [==============================] - 0s 774us/step - loss: 7.6951 - binary_accuracy: 0.4265\n",
            "Epoch 9/10\n",
            "198/198 [==============================] - 0s 769us/step - loss: 7.6951 - binary_accuracy: 0.4265\n",
            "Epoch 10/10\n",
            "198/198 [==============================] - 0s 754us/step - loss: 7.6951 - binary_accuracy: 0.4265\n"
          ]
        },
        {
          "data": {
            "text/plain": [
              "<keras.callbacks.History at 0x23f49778970>"
            ]
          },
          "execution_count": 27,
          "metadata": {},
          "output_type": "execute_result"
        }
      ],
      "source": [
        "model.fit(\n",
        "  x=x_train_final,\n",
        "  y=y_train_new,\n",
        "  shuffle=True,\n",
        "  epochs=10,\n",
        "  batch_size=64\n",
        ")"
      ]
    },
    {
      "cell_type": "code",
      "execution_count": 28,
      "metadata": {
        "colab": {
          "base_uri": "https://localhost:8080/"
        },
        "id": "R42mRw_MpmUY",
        "outputId": "db09e03c-4f7c-4855-ddb3-8926a1157767"
      },
      "outputs": [
        {
          "name": "stdout",
          "output_type": "stream",
          "text": [
            "67/67 [==============================] - 0s 681us/step - loss: 7.7541 - binary_accuracy: 0.4241\n"
          ]
        }
      ],
      "source": [
        "eval = model.evaluate(x=x_test_final, y=y_test_new)"
      ]
    }
  ],
  "metadata": {
    "colab": {
      "name": "Untitled4.ipynb",
      "provenance": []
    },
    "kernelspec": {
      "display_name": "Python 3.9.13 ('base')",
      "language": "python",
      "name": "python3"
    },
    "language_info": {
      "codemirror_mode": {
        "name": "ipython",
        "version": 3
      },
      "file_extension": ".py",
      "mimetype": "text/x-python",
      "name": "python",
      "nbconvert_exporter": "python",
      "pygments_lexer": "ipython3",
      "version": "3.9.13"
    },
    "vscode": {
      "interpreter": {
        "hash": "ad2bdc8ecc057115af97d19610ffacc2b4e99fae6737bb82f5d7fb13d2f2c186"
      }
    }
  },
  "nbformat": 4,
  "nbformat_minor": 0
}
